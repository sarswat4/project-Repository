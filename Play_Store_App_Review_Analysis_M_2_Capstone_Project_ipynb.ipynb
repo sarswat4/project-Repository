{
  "nbformat": 4,
  "nbformat_minor": 0,
  "metadata": {
    "colab": {
      "private_outputs": true,
      "provenance": [],
      "collapsed_sections": [
        "mDgbUHAGgjLW",
        "gIfDvo9L0UH2"
      ],
      "include_colab_link": true
    },
    "kernelspec": {
      "name": "python3",
      "display_name": "Python 3"
    },
    "language_info": {
      "name": "python"
    }
  },
  "cells": [
    {
      "cell_type": "markdown",
      "metadata": {
        "id": "view-in-github",
        "colab_type": "text"
      },
      "source": [
        "<a href=\"https://colab.research.google.com/github/sarswat4/project-Repository/blob/main/Play_Store_App_Review_Analysis_M_2_Capstone_Project_ipynb.ipynb\" target=\"_parent\"><img src=\"https://colab.research.google.com/assets/colab-badge.svg\" alt=\"Open In Colab\"/></a>"
      ]
    },
    {
      "cell_type": "markdown",
      "source": [
        "# **Project Name**    - Play Store App Review Analysis\n",
        "\n"
      ],
      "metadata": {
        "id": "vncDsAP0Gaoa"
      }
    },
    {
      "cell_type": "markdown",
      "source": [
        "##### **Project Type**    - EDA\n",
        "##### **Contribution**    - Individual\n",
        "##### **Team Member 1 -**  Diksha sarswat\n"
      ],
      "metadata": {
        "id": "beRrZCGUAJYm"
      }
    },
    {
      "cell_type": "markdown",
      "source": [
        "# **Project Summary -**"
      ],
      "metadata": {
        "id": "FJNUwmbgGyua"
      }
    },
    {
      "cell_type": "markdown",
      "source": [
        "Data Preprocessing :\n",
        "\n",
        "1. Importing libraries\n",
        "2. Getting the dataset\n",
        "3. Importing datasets\n",
        "4. Reading the data\n",
        "5. Finding Missing Data\n",
        "6. Data Cleaning\n",
        "7. Data Visualisation\n",
        "8. Conclusion\n",
        "\n"
      ],
      "metadata": {
        "id": "F6v_1wHtG2nS"
      }
    },
    {
      "cell_type": "markdown",
      "source": [
        "# **GitHub Link -**"
      ],
      "metadata": {
        "id": "w6K7xa23Elo4"
      }
    },
    {
      "cell_type": "markdown",
      "source": [
        "Provide your GitHub Link here."
      ],
      "metadata": {
        "id": "h1o69JH3Eqqn"
      }
    },
    {
      "cell_type": "markdown",
      "source": [
        "# **Problem Statement**\n"
      ],
      "metadata": {
        "id": "yQaldy8SH6Dl"
      }
    },
    {
      "cell_type": "markdown",
      "source": [
        "**Write Problem Statement Here.**"
      ],
      "metadata": {
        "id": "DpeJGUA3kjGy"
      }
    },
    {
      "cell_type": "markdown",
      "source": [],
      "metadata": {
        "id": "PH-0ReGfmX4f"
      }
    },
    {
      "cell_type": "markdown",
      "source": [
        "Android is the dominant mobile operating system today with about 85% of all mobile devices running Google’s OS. The Google Play Store is the largest and most popular Android app store.\n",
        "\n",
        "The purpose of our project was to gather and analyze detailed information on apps in the Google Play Store in order to provide insights on app features and the current state of the Android app market.\n",
        "\n",
        "The Play Store apps data has enormous potential to drive app-making businesses to success. Actionable insights can be drawn for developers to work on and capture the Android market.\n",
        "\n",
        "Each app (row) has values for catergory, rating, size, and more. Another dataset contains customer reviews of the android apps.\n",
        "\n",
        "Explore and analyze the data to discover key factors responsible for app engagement and success.\n",
        "\n"
      ],
      "metadata": {
        "id": "PhDvGCAqmjP1"
      }
    },
    {
      "cell_type": "markdown",
      "source": [
        "# **General Guidelines** : -  "
      ],
      "metadata": {
        "id": "mDgbUHAGgjLW"
      }
    },
    {
      "cell_type": "markdown",
      "source": [
        "1.   Well-structured, formatted, and commented code is required.\n",
        "2.   Exception Handling, Production Grade Code & Deployment Ready Code will be a plus. Those students will be awarded some additional credits.\n",
        "     \n",
        "     The additional credits will have advantages over other students during Star Student selection.\n",
        "       \n",
        "             [ Note: - Deployment Ready Code is defined as, the whole .ipynb notebook should be executable in one go\n",
        "                       without a single error logged. ]\n",
        "\n",
        "3.   Each and every logic should have proper comments.\n",
        "4. You may add as many number of charts you want. Make Sure for each and every chart the following format should be answered.\n",
        "        \n",
        "\n",
        "```\n",
        "# Chart visualization code\n",
        "```\n",
        "            \n",
        "\n",
        "*   Why did you pick the specific chart?\n",
        "*   What is/are the insight(s) found from the chart?\n",
        "* Will the gained insights help creating a positive business impact?\n",
        "Are there any insights that lead to negative growth? Justify with specific reason.\n",
        "\n",
        "5. You have to create at least 20 logical & meaningful charts having important insights.\n",
        "\n",
        "\n",
        "[ Hints : - Do the Vizualization in  a structured way while following \"UBM\" Rule.\n",
        "\n",
        "U - Univariate Analysis,\n",
        "\n",
        "B - Bivariate Analysis (Numerical - Categorical, Numerical - Numerical, Categorical - Categorical)\n",
        "\n",
        "M - Multivariate Analysis\n",
        " ]\n",
        "\n",
        "\n",
        "\n"
      ],
      "metadata": {
        "id": "ZrxVaUj-hHfC"
      }
    },
    {
      "cell_type": "markdown",
      "source": [
        "# ***Let's Begin !***"
      ],
      "metadata": {
        "id": "O_i_v8NEhb9l"
      }
    },
    {
      "cell_type": "markdown",
      "source": [
        "## ***1. Know Your Data***"
      ],
      "metadata": {
        "id": "HhfV-JJviCcP"
      }
    },
    {
      "cell_type": "markdown",
      "source": [
        "### Import Libraries"
      ],
      "metadata": {
        "id": "Y3lxredqlCYt"
      }
    },
    {
      "cell_type": "code",
      "source": [
        "# Import Libraries\n",
        "import pandas as pd\n",
        "import numpy as np\n",
        "import matplotlib.pyplot as plt\n",
        "import seaborn as sns\n",
        "%matplotlib inline\n",
        "from matplotlib import rcParams"
      ],
      "metadata": {
        "id": "M8Vqi-pPk-HR"
      },
      "execution_count": null,
      "outputs": []
    },
    {
      "cell_type": "markdown",
      "source": [
        "### Dataset Loading"
      ],
      "metadata": {
        "id": "3RnN4peoiCZX"
      }
    },
    {
      "cell_type": "code",
      "source": [
        "from google.colab import drive\n",
        "drive.mount('/content/drive/')"
      ],
      "metadata": {
        "id": "4CkvbW_SlZ_R"
      },
      "execution_count": null,
      "outputs": []
    },
    {
      "cell_type": "code",
      "source": [
        "path='/content/drive/MyDrive/Play Store Data.csv'\n",
        "data=pd.read_csv(path,encoding=\"ISO-8859-1\")"
      ],
      "metadata": {
        "id": "rpk261EqmZot"
      },
      "execution_count": null,
      "outputs": []
    },
    {
      "cell_type": "markdown",
      "source": [
        "### Dataset First View"
      ],
      "metadata": {
        "id": "x71ZqKXriCWQ"
      }
    },
    {
      "cell_type": "code",
      "source": [
        "# Dataset First Look\n",
        "#It will show by default 5 data of our 1st data frame\n",
        "data.head()"
      ],
      "metadata": {
        "id": "LWNFOSvLl09H"
      },
      "execution_count": null,
      "outputs": []
    },
    {
      "cell_type": "markdown",
      "source": [
        "### Dataset Rows & Columns count"
      ],
      "metadata": {
        "id": "7hBIi_osiCS2"
      }
    },
    {
      "cell_type": "code",
      "source": [
        "# Dataset Rows & Columns count\n",
        "data.shape"
      ],
      "metadata": {
        "id": "Kllu7SJgmLij"
      },
      "execution_count": null,
      "outputs": []
    },
    {
      "cell_type": "markdown",
      "source": [
        "### Dataset Information"
      ],
      "metadata": {
        "id": "JlHwYmJAmNHm"
      }
    },
    {
      "cell_type": "code",
      "source": [
        "# Dataset Info\n",
        "data.info()"
      ],
      "metadata": {
        "id": "e9hRXRi6meOf"
      },
      "execution_count": null,
      "outputs": []
    },
    {
      "cell_type": "markdown",
      "source": [
        "#### Duplicate Values"
      ],
      "metadata": {
        "id": "35m5QtbWiB9F"
      }
    },
    {
      "cell_type": "code",
      "source": [
        "# Dataset Duplicate Value Count\n",
        "data.duplicated().sum()"
      ],
      "metadata": {
        "id": "lFSyZjFl5DOd"
      },
      "execution_count": null,
      "outputs": []
    },
    {
      "cell_type": "code",
      "source": [
        "print(f' We have {data.duplicated().sum()} duplicate values in dataset.')"
      ],
      "metadata": {
        "id": "d1jTm-9m5FLO"
      },
      "execution_count": null,
      "outputs": []
    },
    {
      "cell_type": "code",
      "source": [
        "# Different types of Category\n",
        "x=data['Category'].unique()\n",
        "print('Total no. of category of app present in playstore is:-',len(x))"
      ],
      "metadata": {
        "id": "1sLdpKYkmox0"
      },
      "execution_count": null,
      "outputs": []
    },
    {
      "cell_type": "markdown",
      "source": [
        "#### Missing Values/Null Values"
      ],
      "metadata": {
        "id": "PoPl-ycgm1ru"
      }
    },
    {
      "cell_type": "code",
      "source": [
        "# Missing Values/Null Values Count\n",
        "data.isna().sum()"
      ],
      "metadata": {
        "id": "GgHWkxvamxVg"
      },
      "execution_count": null,
      "outputs": []
    },
    {
      "cell_type": "code",
      "source": [
        "# Visualizing the missing values\n",
        "plt.figure(figsize=(15,5))\n",
        "sns.heatmap(data.isnull(),cmap='plasma',annot=False,yticklabels=False)\n",
        "plt.title(\" Visualising Missing Values\")"
      ],
      "metadata": {
        "id": "3q5wnI3om9sJ"
      },
      "execution_count": null,
      "outputs": []
    },
    {
      "cell_type": "markdown",
      "source": [
        "### What did you know about your dataset?"
      ],
      "metadata": {
        "id": "H0kj-8xxnORC"
      }
    },
    {
      "cell_type": "markdown",
      "source": [
        "**Dataset Overview:**\n",
        "\n",
        "The dataset contains 13 columns with 10,841 rows of data entries.\n",
        "\n",
        "**Data Type Issues:**\n",
        "\n",
        "Columns such as 'Reviews', 'Size', 'Installs', and 'Price' are currently stored as strings (object data type), but they represent numerical or categorical information. These need to be converted into appropriate formats for analysis.\n",
        "\n",
        "**Column-Specific Observations:**\n",
        "\n",
        "**Size**: The values in this column are inconsistent. Some represent size in megabytes (M) or kilobytes (k), while others have entries like \"Varies with device\", which must be addressed.\n",
        "\n",
        "**Installs:**  This column uses string formatting, including symbols such as + and ,, which should be cleaned to extract numeric values.\n",
        "\n",
        "**Price:** The price values include the currency symbol $, which needs to be removed for conversion to numeric format.\n",
        "\n",
        "**Action Required:**\n",
        "Data cleaning is necessary to standardize these columns and ensure they are in the correct data types for meaningful analysis.\n",
        "\n",
        "\n"
      ],
      "metadata": {
        "id": "gfoNAAC-nUe_"
      }
    },
    {
      "cell_type": "code",
      "source": [
        "# Dataset Describe\n",
        "data.describe(include='all')"
      ],
      "metadata": {
        "id": "zDu9J0To-QMh"
      },
      "execution_count": null,
      "outputs": []
    },
    {
      "cell_type": "markdown",
      "source": [
        "## ***2. Understanding Your Variables***"
      ],
      "metadata": {
        "id": "nA9Y7ga8ng1Z"
      }
    },
    {
      "cell_type": "code",
      "source": [
        "# Dataset Columns\n",
        "data.columns\n"
      ],
      "metadata": {
        "id": "j7xfkqrt5Ag5"
      },
      "execution_count": null,
      "outputs": []
    },
    {
      "cell_type": "code",
      "source": [
        "# Dataset Describe\n",
        "data.describe(include='all')"
      ],
      "metadata": {
        "id": "DnOaZdaE5Q5t"
      },
      "execution_count": null,
      "outputs": []
    },
    {
      "cell_type": "markdown",
      "source": [
        "### Variables Description"
      ],
      "metadata": {
        "id": "PBTbrJXOngz2"
      }
    },
    {
      "cell_type": "markdown",
      "source": [
        "1-**App:** The name of the application available on the Google Play Store.\n",
        "\n",
        "**2-Category:** The classification or category the app belongs to on the Play Store.\n",
        "\n",
        "**3-Rating:** The average user rating of the app as provided on the Play Store.\n",
        "\n",
        "**4-Reviews:** The total number of user reviews received by the app.\n",
        "\n",
        "**5-Size:** The storage size of the application.\n",
        "\n",
        "**6-Installs:** The total number of times the app has been downloaded or installed.\n",
        "\n",
        "**7-Type:** Indicates whether the app is free to download or requires payment (Free/Paid).\n",
        "\n",
        "8-Price: The cost of the app in USD (0 for free apps).\n",
        "\n",
        "**9-Content Rating:** The target age group or audience suitability of the app (e.g., Everyone, Teen, Mature).\n",
        "\n",
        "**10-Genres:** The specific genre or subcategory of the app.\n",
        "\n",
        "**11-Last Updated:** The date when the app was most recently updated.\n",
        "\n",
        "**12-Current Ver:** The version number of the app that is currently available.\n",
        "\n",
        "**13-Android Ver:** The minimum Android operating system version required for the app to function.\n",
        "\n",
        "\n",
        "\n",
        "\n",
        "\n"
      ],
      "metadata": {
        "id": "aJV4KIxSnxay"
      }
    },
    {
      "cell_type": "markdown",
      "source": [
        "### Check Unique Values for each variable."
      ],
      "metadata": {
        "id": "u3PMJOP6ngxN"
      }
    },
    {
      "cell_type": "code",
      "source": [
        "# Check Unique Values for each variable.\n",
        "# Check Unique Values for each variable.\n",
        "variables_df = data.columns.to_list()\n",
        "for i in variables_df:\n",
        "  print('The Unique Values of', i, 'are:', data[i].unique())"
      ],
      "metadata": {
        "id": "zms12Yq5n-jE"
      },
      "execution_count": null,
      "outputs": []
    },
    {
      "cell_type": "markdown",
      "source": [
        "## 3. ***Data Wrangling***"
      ],
      "metadata": {
        "id": "dauF4eBmngu3"
      }
    },
    {
      "cell_type": "markdown",
      "source": [
        "### Data Wrangling Code"
      ],
      "metadata": {
        "id": "bKJF3rekwFvQ"
      }
    },
    {
      "cell_type": "code",
      "source": [
        "# Write your code to make your dataset analysis ready.\n",
        "#Convert install coloum string to int in install price and review\n",
        "\n",
        "def convert_int(x):\n",
        "    if isinstance(x, int):\n",
        "        return x\n",
        "    x = str(x)\n",
        "    x = x.replace(',', '')\n",
        "    x = x.replace('+', '')\n",
        "    x = x.replace('M', '')\n",
        "    x = x.replace('k', '')\n",
        "    x = x.replace('$', '')\n",
        "    if x == 'Free' or x == 'Varies with device' or x == 'Everyone':\n",
        "        return 0\n",
        "    else:\n",
        "        return int(float(x))"
      ],
      "metadata": {
        "id": "wk-9a2fpoLcV"
      },
      "execution_count": null,
      "outputs": []
    },
    {
      "cell_type": "code",
      "source": [
        "#Converting installs,price,reviews to int value for better calculations\n",
        "data['Installs']=data['Installs'].apply(convert_int)\n",
        "data['Size_int']=data['Size'].apply(convert_int)\n",
        "data['Price']=data['Price'].apply(convert_int)\n",
        "data['Reviews']=data['Reviews'].apply(convert_int)"
      ],
      "metadata": {
        "id": "L5C4UFy2EPcI"
      },
      "execution_count": null,
      "outputs": []
    },
    {
      "cell_type": "code",
      "source": [
        "#convert size due to size divided into multiple category so we convert into to same format(mb=1024k, k=mb/1024)\n",
        "def convert_int2(x):\n",
        "    x=x.lower()\n",
        "\n",
        "    if x=='varies with device':\n",
        "        x=0\n",
        "    else:\n",
        "        if 'm' in x:\n",
        "\n",
        "            x=x+','+'+'+'m'+'$'\n",
        "            x=x.replace(',','')\n",
        "            x=x.replace('+','')\n",
        "            x=x.replace('m','')\n",
        "            x=x.replace('k','')\n",
        "            x=x.replace('$','')\n",
        "            x=eval(x)\n",
        "        elif 'k' in x :\n",
        "\n",
        "            x=x+','+'+'+'k'+'$'\n",
        "            x=x.replace(',','')\n",
        "            x=x.replace('+','')\n",
        "            x=x.replace('M','')\n",
        "            x=x.replace('k','')\n",
        "            x=x.replace('$','')\n",
        "            x=eval(x)/1024\n",
        "        else:\n",
        "            x=-100\n",
        "\n",
        "    return x\n",
        "data['Size_int']=data['Size'].apply(convert_int2)"
      ],
      "metadata": {
        "id": "_a7XjJ6REPKw"
      },
      "execution_count": null,
      "outputs": []
    },
    {
      "cell_type": "code",
      "source": [
        "# Remove wich app reating is more than 5 nonused entry\n",
        "r=data[data['Rating']>5].index\n",
        "\n",
        "data=data.drop(r)"
      ],
      "metadata": {
        "id": "b_YkrhjZEO1h"
      },
      "execution_count": null,
      "outputs": []
    },
    {
      "cell_type": "code",
      "source": [
        "x=data['Rating'].median()\n",
        "data['Rating']=data['Rating'].fillna(x)\n",
        "data.isna().sum()"
      ],
      "metadata": {
        "id": "75shGMemFFFK"
      },
      "execution_count": null,
      "outputs": []
    },
    {
      "cell_type": "code",
      "source": [
        "#Remove the app which has contain no type\n",
        "\n",
        "y=data[data['Type'].isna()].index\n",
        "data=data.drop(index=y)\n",
        "data.isnull().sum()"
      ],
      "metadata": {
        "id": "cWmpsi8TEOa0"
      },
      "execution_count": null,
      "outputs": []
    },
    {
      "cell_type": "markdown",
      "source": [
        "### What all manipulations have you done and insights you found?"
      ],
      "metadata": {
        "id": "MSa1f5Uengrz"
      }
    },
    {
      "cell_type": "markdown",
      "source": [
        "We observed that 1,474 rows in the dataset have missing values in the 'Rating' column. To address this, we chose to replace the null values with the median of the overall 'Rating' values.\n",
        "\n",
        "median=In statistics and probability theory, the median is the value separating the higher half from the lower half of a data sample, a population, or a probability distribution. For a data set, it may be thought of as \"the middle\" value\n",
        "\n"
      ],
      "metadata": {
        "id": "LbyXE7I1olp8"
      }
    },
    {
      "cell_type": "markdown",
      "source": [
        "**Based on the highest review we created the data set and change**"
      ],
      "metadata": {
        "id": "r8VfAs72GJgq"
      }
    },
    {
      "cell_type": "code",
      "source": [
        "df1=pd.DataFrame(data)\n",
        "df1.sort_values(by='Reviews',ascending=False, inplace=True)\n",
        "\n",
        "df1=df1.drop_duplicates(subset=['App'])\n",
        "df1"
      ],
      "metadata": {
        "id": "BDB5KKG9GhtK"
      },
      "execution_count": null,
      "outputs": []
    },
    {
      "cell_type": "markdown",
      "source": [
        "## ***4. Data Vizualization, Storytelling & Experimenting with charts : Understand the relationships between variables***"
      ],
      "metadata": {
        "id": "GF8Ens_Soomf"
      }
    },
    {
      "cell_type": "markdown",
      "source": [
        "#### Chart - 1"
      ],
      "metadata": {
        "id": "0wOQAZs5pc--"
      }
    },
    {
      "cell_type": "code",
      "source": [
        "# Chart - 1 visualization code\n",
        "sns.set_style('darkgrid')\n",
        "plt.figure(figsize=(10, 5))\n",
        "sns.countplot(x='Category', data=df1)\n",
        "plt.title('Number of Apps Per Category')\n",
        "plt.xticks(rotation=90)\n",
        "plt.ylabel('Number of Apps')\n",
        "plt.show()"
      ],
      "metadata": {
        "id": "7v_ESjsspbW7"
      },
      "execution_count": null,
      "outputs": []
    },
    {
      "cell_type": "markdown",
      "source": [
        "##### 1. Why did you pick the specific chart?"
      ],
      "metadata": {
        "id": "K5QZ13OEpz2H"
      }
    },
    {
      "cell_type": "markdown",
      "source": [
        "To get the number of apps for each category.\n",
        "\n"
      ],
      "metadata": {
        "id": "XESiWehPqBRc"
      }
    },
    {
      "cell_type": "markdown",
      "source": [
        "##### 2. What is/are the insight(s) found from the chart?"
      ],
      "metadata": {
        "id": "lQ7QKXXCp7Bj"
      }
    },
    {
      "cell_type": "markdown",
      "source": [
        "Here we can see that there are highest no. of app from family category and at second there is game.\n",
        "\n"
      ],
      "metadata": {
        "id": "C_j1G7yiqdRP"
      }
    },
    {
      "cell_type": "markdown",
      "source": [
        "##### 3. Will the gained insights help creating a positive business impact?\n",
        "Are there any insights that lead to negative growth? Justify with specific reason."
      ],
      "metadata": {
        "id": "448CDAPjqfQr"
      }
    },
    {
      "cell_type": "markdown",
      "source": [
        "Yes.It will help to gain insight to help creating a positive business impact.\n",
        "\n"
      ],
      "metadata": {
        "id": "3cspy4FjqxJW"
      }
    },
    {
      "cell_type": "markdown",
      "source": [
        "#### Chart - 2"
      ],
      "metadata": {
        "id": "KSlN3yHqYklG"
      }
    },
    {
      "cell_type": "code",
      "source": [
        "# Chart - 2 visualization code\n",
        "# Chart - 2 visualization code\n",
        "users=df1.groupby(['Category'])['Installs'].sum().reset_index()\n",
        "sns.set_style('darkgrid')\n",
        "plt.figure(figsize=(10, 5))\n",
        "sns.barplot(x='Category',y='Installs',data=users)\n",
        "plt.title('Number of install Apps per Category')\n",
        "plt.xticks(rotation=90)\n",
        "plt.ylabel('Number of User')\n",
        "plt.show()"
      ],
      "metadata": {
        "id": "R4YgtaqtYklH"
      },
      "execution_count": null,
      "outputs": []
    },
    {
      "cell_type": "markdown",
      "source": [
        "##### 1. Why did you pick the specific chart?"
      ],
      "metadata": {
        "id": "t6dVpIINYklI"
      }
    },
    {
      "cell_type": "markdown",
      "source": [
        "To get the highest no. of user/installed app category wise."
      ],
      "metadata": {
        "id": "5aaW0BYyYklI"
      }
    },
    {
      "cell_type": "markdown",
      "source": [
        "##### 2. What is/are the insight(s) found from the chart?"
      ],
      "metadata": {
        "id": "ijmpgYnKYklI"
      }
    },
    {
      "cell_type": "markdown",
      "source": [
        "As for the above graph we conclude that most user showing their interest in Gaming app and after game people show their interest in communication apps. The highest install app is Game app and communicatation app is at second.\n",
        "\n"
      ],
      "metadata": {
        "id": "PSx9atu2YklI"
      }
    },
    {
      "cell_type": "markdown",
      "source": [
        "##### 3. Will the gained insights help creating a positive business impact?\n",
        "Are there any insights that lead to negative growth? Justify with specific reason."
      ],
      "metadata": {
        "id": "-JiQyfWJYklI"
      }
    },
    {
      "cell_type": "markdown",
      "source": [
        "Yes.It will help to gain insight to help creating a positive business impact.\n",
        "\n"
      ],
      "metadata": {
        "id": "BcBbebzrYklV"
      }
    },
    {
      "cell_type": "markdown",
      "source": [
        "#### Chart - 3"
      ],
      "metadata": {
        "id": "EM7whBJCYoAo"
      }
    },
    {
      "cell_type": "code",
      "source": [
        "# Chart - 3 visualization code\n",
        "plt.figure(figsize=(10, 5))\n",
        "sns.countplot(x='Rating', data=df1)\n",
        "plt.title('Rating Distribution')\n",
        "plt.xticks(rotation=90)\n",
        "plt.ylabel('Number of Apps')\n",
        "plt.show()"
      ],
      "metadata": {
        "id": "t6GMdE67YoAp"
      },
      "execution_count": null,
      "outputs": []
    },
    {
      "cell_type": "markdown",
      "source": [
        "##### 1. Why did you pick the specific chart?"
      ],
      "metadata": {
        "id": "fge-S5ZAYoAp"
      }
    },
    {
      "cell_type": "markdown",
      "source": [
        "show the distribution of rating."
      ],
      "metadata": {
        "id": "5dBItgRVYoAp"
      }
    },
    {
      "cell_type": "markdown",
      "source": [
        "##### 2. What is/are the insight(s) found from the chart?"
      ],
      "metadata": {
        "id": "85gYPyotYoAp"
      }
    },
    {
      "cell_type": "markdown",
      "source": [
        "From this distribution plotting, it implies that most of the apps in the Play Store are having rating higher than 4 or in the range of 4 to 4.7.\n",
        "\n"
      ],
      "metadata": {
        "id": "4jstXR6OYoAp"
      }
    },
    {
      "cell_type": "markdown",
      "source": [
        "##### 3. Will the gained insights help creating a positive business impact?\n",
        "Are there any insights that lead to negative growth? Justify with specific reason."
      ],
      "metadata": {
        "id": "RoGjAbkUYoAp"
      }
    },
    {
      "cell_type": "markdown",
      "source": [
        "Yes.It will help to gain insight to help creating a positive business impact.\n",
        "\n"
      ],
      "metadata": {
        "id": "zfJ8IqMcYoAp"
      }
    },
    {
      "cell_type": "markdown",
      "source": [
        "#### Chart - 4"
      ],
      "metadata": {
        "id": "4Of9eVA-YrdM"
      }
    },
    {
      "cell_type": "code",
      "source": [
        "# Chart - 4 visualization code\n",
        "plt.figure(figsize=(14,9))\n",
        "\n",
        "val = sns.boxplot(data=df1, x=\"Category\", y=\"Rating\")\n",
        "val.axhline(df1['Rating'].mean(),ls=\"-\",color=\"red\")\n",
        "x=plt.xticks(rotation=90)\n",
        "print('Avg rating:-',df1['Rating'].mean())"
      ],
      "metadata": {
        "id": "irlUoxc8YrdO"
      },
      "execution_count": null,
      "outputs": []
    },
    {
      "cell_type": "markdown",
      "source": [
        "##### 1. Why did you pick the specific chart?"
      ],
      "metadata": {
        "id": "iky9q4vBYrdO"
      }
    },
    {
      "cell_type": "markdown",
      "source": [
        "Here we compared the app category wise with rating (which category get more rating with avg. and which gets low)\n",
        "\n"
      ],
      "metadata": {
        "id": "aJRCwT6DYrdO"
      }
    },
    {
      "cell_type": "markdown",
      "source": [
        "##### 2. What is/are the insight(s) found from the chart?"
      ],
      "metadata": {
        "id": "F6T5p64dYrdO"
      }
    },
    {
      "cell_type": "markdown",
      "source": [
        "Red Line is the Average of rating\n",
        "\n",
        "Performance of all app categories is mostly decent. Highest quality apps with 50% apps with a rating higher than 4.5 are Health and Fitness and Book and Reference app. This is considered to be extremely high!\n",
        "\n",
        "However, the apps in Dating category having lower rating than the average ratings is 50%.\n",
        "\n"
      ],
      "metadata": {
        "id": "Xx8WAJvtYrdO"
      }
    },
    {
      "cell_type": "markdown",
      "source": [
        "##### 3. Will the gained insights help creating a positive business impact?\n",
        "Are there any insights that lead to negative growth? Justify with specific reason."
      ],
      "metadata": {
        "id": "y-Ehk30pYrdP"
      }
    },
    {
      "cell_type": "markdown",
      "source": [
        "Yes,the game category has app more app rated as compared to avg and from Health and Fitness almost all app rated more than avg this is consider as positive feedback of those category.\n",
        "\n"
      ],
      "metadata": {
        "id": "jLNxxz7MYrdP"
      }
    },
    {
      "cell_type": "markdown",
      "source": [
        "#### Chart - 5"
      ],
      "metadata": {
        "id": "bamQiAODYuh1"
      }
    },
    {
      "cell_type": "code",
      "source": [
        "# Chart - 5 visualization code\n",
        "# Chart - 5 visualization code\n",
        "rating=df1.groupby(['Rating']).sum().reset_index()\n",
        "fig, axes = plt.subplots(1, 4, figsize=(14, 4))\n",
        "\n",
        "axes[0].plot(rating['Rating'], rating['Reviews'])\n",
        "axes[0].set_xlabel('Rating')\n",
        "axes[0].set_ylabel('Reviews')\n",
        "axes[0].set_title('Reviews Per Rating')\n",
        "\n",
        "axes[1].plot(rating['Rating'], rating['Size_int'] )\n",
        "axes[1].set_xlabel('Rating')\n",
        "axes[1].set_ylabel('Size')\n",
        "axes[1].set_title('Size Per Rating')\n",
        "\n",
        "axes[2].plot(rating['Rating'], rating['Installs'] )\n",
        "axes[2].set_xlabel('Rating')\n",
        "axes[2].set_ylabel('Installs')\n",
        "axes[2].set_title('Installs Per Rating')\n",
        "\n",
        "axes[3].plot(rating['Rating'], rating['Price'] )\n",
        "axes[3].set_xlabel('Rating')\n",
        "axes[3].set_ylabel('Price')\n",
        "axes[3].set_title('Price Per Rating')\n",
        "\n",
        "plt.tight_layout(pad=2)\n",
        "plt.show()"
      ],
      "metadata": {
        "id": "TIJwrbroYuh3"
      },
      "execution_count": null,
      "outputs": []
    },
    {
      "cell_type": "markdown",
      "source": [
        "##### 1. Why did you pick the specific chart?"
      ],
      "metadata": {
        "id": "QHF8YVU7Yuh3"
      }
    },
    {
      "cell_type": "markdown",
      "source": [
        "To get the corelatation between how rating affected the other factors\n",
        "\n"
      ],
      "metadata": {
        "id": "dcxuIMRPYuh3"
      }
    },
    {
      "cell_type": "markdown",
      "source": [
        "##### 2. What is/are the insight(s) found from the chart?"
      ],
      "metadata": {
        "id": "GwzvFGzlYuh3"
      }
    },
    {
      "cell_type": "markdown",
      "source": [
        "From the above graphs, we found that most of the apps whose rating range is in between 4.0 - 4.7 are having high amount of reviews, size, and installs. In terms of price, it doesn't reflect a direct relationship with rating, as we could see a fluctuation in term of pricing even at the range of high rating."
      ],
      "metadata": {
        "id": "uyqkiB8YYuh3"
      }
    },
    {
      "cell_type": "markdown",
      "source": [
        "##### 3. Will the gained insights help creating a positive business impact?\n",
        "Are there any insights that lead to negative growth? Justify with specific reason."
      ],
      "metadata": {
        "id": "qYpmQ266Yuh3"
      }
    },
    {
      "cell_type": "markdown",
      "source": [
        "Yes, customers tend to install those app which get highest no. of reviews.\n",
        "\n"
      ],
      "metadata": {
        "id": "_WtzZ_hCYuh4"
      }
    },
    {
      "cell_type": "markdown",
      "source": [
        "#### Chart - 6"
      ],
      "metadata": {
        "id": "OH-pJp9IphqM"
      }
    },
    {
      "cell_type": "code",
      "source": [
        "# Chart - 6 visualization code\n",
        "# Chart - 6 visualization code\n",
        "fig, ax = plt.subplots(figsize=(7, 7), subplot_kw=dict(aspect=\"equal\"))\n",
        "\n",
        "number_of_apps = df1['Type'].value_counts()\n",
        "\n",
        "labels = number_of_apps.index\n",
        "sizes = number_of_apps.values\n",
        "\n",
        "ax.pie(sizes,labeldistance=2,autopct='%1.1f%%')\n",
        "ax.legend(labels=labels,loc=\"right\",bbox_to_anchor=(0.9, 0, 0.5, 1))\n",
        "ax.axis(\"equal\")\n",
        "plt.title('Type Distribution')\n",
        "plt.show()"
      ],
      "metadata": {
        "id": "kuRf4wtuphqN"
      },
      "execution_count": null,
      "outputs": []
    },
    {
      "cell_type": "markdown",
      "source": [
        "##### 1. Why did you pick the specific chart?"
      ],
      "metadata": {
        "id": "bbFf2-_FphqN"
      }
    },
    {
      "cell_type": "markdown",
      "source": [
        "We want to count a paricular coloum comparison.\n",
        "\n"
      ],
      "metadata": {
        "id": "loh7H2nzphqN"
      }
    },
    {
      "cell_type": "markdown",
      "source": [
        "##### 2. What is/are the insight(s) found from the chart?"
      ],
      "metadata": {
        "id": "_ouA3fa0phqN"
      }
    },
    {
      "cell_type": "markdown",
      "source": [
        "From the plot we can imply that majority of the apps in the Play Store are Free apps.\n",
        "\n"
      ],
      "metadata": {
        "id": "VECbqPI7phqN"
      }
    },
    {
      "cell_type": "markdown",
      "source": [
        "##### 3. Will the gained insights help creating a positive business impact?\n",
        "Are there any insights that lead to negative growth? Justify with specific reason."
      ],
      "metadata": {
        "id": "Seke61FWphqN"
      }
    },
    {
      "cell_type": "markdown",
      "source": [
        "Not much, because most of the apps are free apps.\n",
        "\n"
      ],
      "metadata": {
        "id": "DW4_bGpfphqN"
      }
    },
    {
      "cell_type": "markdown",
      "source": [
        "#### Chart - 7"
      ],
      "metadata": {
        "id": "PIIx-8_IphqN"
      }
    },
    {
      "cell_type": "code",
      "source": [
        "# Chart - 7 visualization code\n",
        "fig, ax = plt.subplots(figsize=(7, 7), subplot_kw=dict(aspect=\"equal\"))\n",
        "\n",
        "number_of_apps = df1['Content Rating'].value_counts()\n",
        "\n",
        "labels = number_of_apps.index\n",
        "sizes = number_of_apps.values\n",
        "\n",
        "ax.pie(sizes,labeldistance=2,autopct='%1.1f%%')\n",
        "ax.legend(labels=labels,loc=\"right\",bbox_to_anchor=(0.9, 0, 0.5, 1))\n",
        "ax.axis(\"equal\")\n",
        "plt.title('Content Distributation')\n",
        "plt.show()"
      ],
      "metadata": {
        "id": "lqAIGUfyphqO"
      },
      "execution_count": null,
      "outputs": []
    },
    {
      "cell_type": "markdown",
      "source": [
        "##### 1. Why did you pick the specific chart?"
      ],
      "metadata": {
        "id": "t27r6nlMphqO"
      }
    },
    {
      "cell_type": "markdown",
      "source": [
        "Here we just want to see diffent type of content present in playstore\n",
        "\n"
      ],
      "metadata": {
        "id": "iv6ro40sphqO"
      }
    },
    {
      "cell_type": "markdown",
      "source": [
        "##### 2. What is/are the insight(s) found from the chart?"
      ],
      "metadata": {
        "id": "r2jJGEOYphqO"
      }
    },
    {
      "cell_type": "markdown",
      "source": [
        "We can see most of content available for Everyone."
      ],
      "metadata": {
        "id": "Po6ZPi4hphqO"
      }
    },
    {
      "cell_type": "markdown",
      "source": [
        "##### 3. Will the gained insights help creating a positive business impact?\n",
        "Are there any insights that lead to negative growth? Justify with specific reason."
      ],
      "metadata": {
        "id": "b0JNsNcRphqO"
      }
    },
    {
      "cell_type": "markdown",
      "source": [
        "Not much because type of content does not really affect the growth of the app.\n",
        "\n"
      ],
      "metadata": {
        "id": "xvSq8iUTphqO"
      }
    },
    {
      "cell_type": "markdown",
      "source": [
        "#### Chart - 8"
      ],
      "metadata": {
        "id": "BZR9WyysphqO"
      }
    },
    {
      "cell_type": "code",
      "source": [
        "# Chart - 8 visualization code\n",
        "fig, axes = plt.subplots(figsize=(8, 8))\n",
        "sns.heatmap(df1.select_dtypes(include=np.number).corr(), ax=axes, annot=True, linewidths=0.1, fmt='.2f', square=True)\n",
        "plt.show()"
      ],
      "metadata": {
        "id": "TdPTWpAVphqO"
      },
      "execution_count": null,
      "outputs": []
    },
    {
      "cell_type": "markdown",
      "source": [
        "##### 1. Why did you pick the specific chart?"
      ],
      "metadata": {
        "id": "jj7wYXLtphqO"
      }
    },
    {
      "cell_type": "markdown",
      "source": [
        "Want to see the corelation with each category to other category by using heat map.\n",
        "\n"
      ],
      "metadata": {
        "id": "Ob8u6rCTphqO"
      }
    },
    {
      "cell_type": "markdown",
      "source": [
        "##### 2. What is/are the insight(s) found from the chart?"
      ],
      "metadata": {
        "id": "eZrbJ2SmphqO"
      }
    },
    {
      "cell_type": "markdown",
      "source": [
        "Installs and review are highly corelated to each other.\n",
        "\n",
        "A moderate positive correlation of 0.63 exists between the number of reviews and number of installs. This means that customers tend to download a given app more if it has been reviewed by a larger number of people.\n",
        "\n",
        "This also means that many active users who download an app usually also leave back a review or feedback.\n",
        "\n"
      ],
      "metadata": {
        "id": "mZtgC_hjphqO"
      }
    },
    {
      "cell_type": "markdown",
      "source": [
        "##### 3. Will the gained insights help creating a positive business impact?\n",
        "Are there any insights that lead to negative growth? Justify with specific reason."
      ],
      "metadata": {
        "id": "rFu4xreNphqO"
      }
    },
    {
      "cell_type": "markdown",
      "source": [
        "Yes,getting your app reviewed by more people maybe a good idea to increase your app's capture in the market!\n",
        "\n"
      ],
      "metadata": {
        "id": "ey_0qi68phqO"
      }
    },
    {
      "cell_type": "markdown",
      "source": [
        "\n",
        "\n",
        "\n",
        "\n",
        "# Sentiment Analysis (2nd DataSet)"
      ],
      "metadata": {
        "id": "rbIKjWc552NV"
      }
    },
    {
      "cell_type": "markdown",
      "source": [
        "This file contains the result of the sentiment analysis conducted by the dataset creator. It has 64,295 rows of data with the following columns:\n",
        "\n",
        "App : Name of the app.\n",
        "\n",
        "Translated_Review: Either the original review in English, or a translated version if the orignal review is in another language.\n",
        "\n",
        "Sentiment: The result of the sentiment analysis conducted on a review. The value is either Positive, Neutral, or Negative.\n",
        "\n",
        "Sentiment_Polarity: A value indicating the positivity or negativity of the sentiment, values range from -1 (most negative) to 1 (most positive).\n",
        "\n",
        "Sentiment_Subjectivity: A value from 0 to 1 indicating the subjectivity of the review. Lower values indicate the review is based on factual information, and higher values indicate the review is based on personal or public opinions or judgements.\n",
        "\n"
      ],
      "metadata": {
        "id": "bvf1O7BC9d9T"
      }
    },
    {
      "cell_type": "code",
      "source": [
        "#Second datset\n",
        "from google.colab import drive\n",
        "drive.mount('/content/drive/')"
      ],
      "metadata": {
        "id": "Fr1uY31IAOaR"
      },
      "execution_count": null,
      "outputs": []
    },
    {
      "cell_type": "code",
      "source": [
        "path= '/content/drive/MyDrive/User Reviews.csv'"
      ],
      "metadata": {
        "id": "v0ez84eOAisz"
      },
      "execution_count": null,
      "outputs": []
    },
    {
      "cell_type": "code",
      "source": [
        "#Second datset\n",
        "data1=pd.read_csv(path,encoding=\"ISO-8859-1\")"
      ],
      "metadata": {
        "id": "VwkTnqgDBi3K"
      },
      "execution_count": null,
      "outputs": []
    },
    {
      "cell_type": "code",
      "source": [
        "data1"
      ],
      "metadata": {
        "id": "YRmVhQhcCZrZ"
      },
      "execution_count": null,
      "outputs": []
    },
    {
      "cell_type": "code",
      "source": [
        "#Here we are merging our play store data set and review data set\n",
        "df4=pd.merge(df1,data1,how='inner',on='App')"
      ],
      "metadata": {
        "id": "JcI4FeCjGmBN"
      },
      "execution_count": null,
      "outputs": []
    },
    {
      "cell_type": "markdown",
      "source": [
        "**Chart - 9**\n",
        "\n",
        "Sentiment Analysis on different Category basis"
      ],
      "metadata": {
        "id": "imHO6e06IQ0I"
      }
    },
    {
      "cell_type": "code",
      "source": [
        "# Chart - 9 visualization code\n",
        "from matplotlib.ticker import PercentFormatter\n",
        "\n",
        "f = plt.figure(figsize=(15,8))\n",
        "ax = f.add_subplot(1,1,1)\n",
        "\n",
        "sns.histplot(\n",
        "    data=df4,\n",
        "    x=\"Category\", hue=\"Sentiment\",\n",
        "    bins=34,\n",
        "    ax=ax,\n",
        "    stat=\"count\",\n",
        "    multiple=\"stack\",\n",
        "    palette=\"light:m_r\",\n",
        "    edgecolor=\".3\",\n",
        "    linewidth=.5,\n",
        "    legend=True\n",
        "    )\n",
        "ax.set_title(\"Sentiment Analysis Based on Category\",fontsize=15,fontweight='bold')\n",
        "plt.xticks(rotation='vertical')\n",
        "ax.set_xlabel(\"Category\",fontsize=14)\n",
        "ax.set_ylabel(\"Review Counts\",fontsize=14)\n",
        "\n",
        "plt.gca().yaxis.set_major_formatter(PercentFormatter(20000))\n",
        "sns.set(style=\"ticks\")\n",
        "plt.grid()\n",
        "plt.show()\n"
      ],
      "metadata": {
        "id": "RT3tGOPN5fHO"
      },
      "execution_count": null,
      "outputs": []
    },
    {
      "cell_type": "markdown",
      "source": [
        "##### 1. Why did you pick the specific chart?"
      ],
      "metadata": {
        "id": "gCFgpxoyphqP"
      }
    },
    {
      "cell_type": "markdown",
      "source": [
        "To see which category of app performs best."
      ],
      "metadata": {
        "id": "TVxDimi2phqP"
      }
    },
    {
      "cell_type": "markdown",
      "source": [
        "##### 2. What is/are the insight(s) found from the chart?"
      ],
      "metadata": {
        "id": "OVtJsKN_phqQ"
      }
    },
    {
      "cell_type": "markdown",
      "source": [
        "Family, Sports and Health & Fitness apps perform the best, Having more than 50% positive reviews and Game and Social apps perform decent leading to 50% positive and 50% negative.\n",
        "\n",
        "The no. of review of game is much more higher in compare to other.\n",
        "\n"
      ],
      "metadata": {
        "id": "ngGi97qjphqQ"
      }
    },
    {
      "cell_type": "markdown",
      "source": [
        "##### 3. Will the gained insights help creating a positive business impact?\n",
        "Are there any insights that lead to negative growth? Justify with specific reason."
      ],
      "metadata": {
        "id": "lssrdh5qphqQ"
      }
    },
    {
      "cell_type": "markdown",
      "source": [
        " Yes, it will help which category of app will perform good."
      ],
      "metadata": {
        "id": "tBpY5ekJphqQ"
      }
    },
    {
      "cell_type": "markdown",
      "source": [
        "## **5. Solution to Business Objective**"
      ],
      "metadata": {
        "id": "JcMwzZxoAimU"
      }
    },
    {
      "cell_type": "markdown",
      "source": [
        "#### What do you suggest the client to achieve Business Objective ?\n",
        "Explain Briefly."
      ],
      "metadata": {
        "id": "8G2x9gOozGDZ"
      }
    },
    {
      "cell_type": "markdown",
      "source": [
        "The average rating of active apps on the Google Play Store is 4.17. Communication apps like Facebook and WhatsApp are highly reviewed, indicating that users are regularly active on these platforms and frequently provide feedback.\n",
        "\n",
        "Medical and Family apps are among the most expensive, with some costing up to $80. Users are more likely to download an app if it has a large number of reviews.\n",
        "\n",
        "More than half of the users rate Family, Sports, and Health & Fitness apps positively. In contrast, apps for games and social media receive mixed feedback, with about 50% positive and 50% negative reviews."
      ],
      "metadata": {
        "id": "pASKb0qOza21"
      }
    },
    {
      "cell_type": "markdown",
      "source": [
        "# **Conclusion**"
      ],
      "metadata": {
        "id": "gCX9965dhzqZ"
      }
    },
    {
      "cell_type": "markdown",
      "source": [
        "The Google Play Store Apps report highlights key trends among popular apps. Based on the visual data, categories like GAME, COMMUNICATION, and TOOL dominate in terms of user installs, even though the number of apps available in these categories is significantly smaller compared to FAMILY apps. This popularity is likely due to their ability to entertain or assist users effectively. Developers in these categories appear to prioritize quality over quantity.\n",
        "\n",
        "The charts also indicate that apps with high ratings (above 4.0) often have a large number of reviews and user installs. However, app size and price are not strong indicators of high ratings, as these attributes are influenced by a minority of apps. Categories such as SOCIAL, COMMUNICATION, and GAME—featuring apps like Facebook, WhatsApp, Instagram, Messenger, Clash of Clans, and Google apps—tend to have the most reviews and user engagement.\n",
        "\n",
        "Despite their popularity, apps from GAME, SOCIAL, COMMUNICATION, and TOOL categories do not appear in the top 5 most expensive apps on the Play Store. In conclusion, the current trends in the Android app market revolve around apps that provide entertainment, communication, or assistance, making these categories the most influential among users.\n",
        "\n",
        "\n",
        "\n",
        "\n",
        "\n",
        "\n"
      ],
      "metadata": {
        "id": "Fjb1IsQkh3yE"
      }
    },
    {
      "cell_type": "markdown",
      "source": [
        "### ***Hurrah! You have successfully completed your EDA Capstone Project !!!***"
      ],
      "metadata": {
        "id": "gIfDvo9L0UH2"
      }
    }
  ]
}